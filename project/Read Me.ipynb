{
 "cells": [
  {
   "cell_type": "markdown",
   "id": "dad06bae",
   "metadata": {},
   "source": [
    "# Money and Wins: Does more payroll means more wins in the NBA?"
   ]
  },
  {
   "cell_type": "markdown",
   "id": "8a5a418b",
   "metadata": {},
   "source": [
    "In 2002, a baseball team called the Oakland Athletics, applied a method called \"Moneyball\". \n",
    "The team wanted to get wins, but they did have a low budget compared to other teams.\n",
    "The \"Moneyball\" approach was focused on acquiring players based on data rather than looking subjective attributes such as appearance (taking into account the low-budget).\n",
    "This method applied by Billy Bean and Peter Brand, led the team to a record of 103 wins and 59 losses. Despite the surprising success of the team, they felt short to win the World Series.\n",
    "\n",
    "There were a lot of lessons learned from that experience. Even sports such as basketball or football, learned from \"Moneyball\".\n",
    "\n",
    "Twenty-one years after this approach, it is interesting to analyze the relationship between wins and payroll. To do that, we will analyze different stats of NBA teams from the 2015-16 to 2021-22 season. It will be also important to analyze the variables that can explain wins and which is the distribution of payroll during the seasons analyzed.\n",
    "\n",
    "The data is being extracted from the NBA official website and Hoopshype."
   ]
  },
  {
   "cell_type": "code",
   "execution_count": null,
   "id": "1868305d",
   "metadata": {},
   "outputs": [],
   "source": []
  }
 ],
 "metadata": {
  "kernelspec": {
   "display_name": "Python 3 (ipykernel)",
   "language": "python",
   "name": "python3"
  },
  "language_info": {
   "codemirror_mode": {
    "name": "ipython",
    "version": 3
   },
   "file_extension": ".py",
   "mimetype": "text/x-python",
   "name": "python",
   "nbconvert_exporter": "python",
   "pygments_lexer": "ipython3",
   "version": "3.9.12"
  }
 },
 "nbformat": 4,
 "nbformat_minor": 5
}
